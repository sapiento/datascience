{
 "cells": [
  {
   "cell_type": "code",
   "execution_count": 9,
   "metadata": {},
   "outputs": [
    {
     "name": "stdout",
     "output_type": "stream",
     "text": [
      "WELCOME TO TOTAL CLINIC HOSPITAL, WE ARE HERE TO GIVE YOU A BETTER SERVICE\n"
     ]
    }
   ],
   "source": [
    "class HospialManagenmentSystem:\n",
    "    def __init__(self,firstname,middlename,surname,gender,dob,address,stateoforingin):\n",
    "        self.firstname = firstname\n",
    "        self.middlename = middlename\n",
    "        self.surname = surname\n",
    "        self.gender = gender\n",
    "        self.dob = dob\n",
    "        self.address = address\n",
    "        self.stateoforigin = stateoforingin\n",
    "    def greetings():\n",
    "        print('WELCOME TO TOTAL CLINIC HOSPITAL, WE ARE HERE TO GIVE YOU A BETTER SERVICE')\n",
    "    greetings()\n",
    "    def TestForMalaria()\n"
   ]
  },
  {
   "cell_type": "code",
   "execution_count": null,
   "metadata": {},
   "outputs": [],
   "source": []
  }
 ],
 "metadata": {
  "kernelspec": {
   "display_name": "Python 3.9.12 ('base')",
   "language": "python",
   "name": "python3"
  },
  "language_info": {
   "codemirror_mode": {
    "name": "ipython",
    "version": 3
   },
   "file_extension": ".py",
   "mimetype": "text/x-python",
   "name": "python",
   "nbconvert_exporter": "python",
   "pygments_lexer": "ipython3",
   "version": "3.9.12"
  },
  "orig_nbformat": 4,
  "vscode": {
   "interpreter": {
    "hash": "dc07d24e2f18896857f0b2a651fe84ba40ce7b297e58d8804a308c8039f752a6"
   }
  }
 },
 "nbformat": 4,
 "nbformat_minor": 2
}
