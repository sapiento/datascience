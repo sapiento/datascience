{
 "cells": [
  {
   "cell_type": "code",
   "execution_count": 1,
   "metadata": {},
   "outputs": [],
   "source": [
    "import numpy as np"
   ]
  },
  {
   "cell_type": "code",
   "execution_count": 2,
   "metadata": {},
   "outputs": [],
   "source": [
    "arr = np.array([45,52,36,14])"
   ]
  },
  {
   "cell_type": "code",
   "execution_count": 3,
   "metadata": {},
   "outputs": [
    {
     "data": {
      "text/plain": [
       "1"
      ]
     },
     "execution_count": 3,
     "metadata": {},
     "output_type": "execute_result"
    }
   ],
   "source": [
    "arr.ndim"
   ]
  },
  {
   "cell_type": "code",
   "execution_count": 4,
   "metadata": {},
   "outputs": [
    {
     "data": {
      "text/plain": [
       "(4,)"
      ]
     },
     "execution_count": 4,
     "metadata": {},
     "output_type": "execute_result"
    }
   ],
   "source": [
    "arr.shape"
   ]
  },
  {
   "cell_type": "code",
   "execution_count": 5,
   "metadata": {},
   "outputs": [
    {
     "data": {
      "text/plain": [
       "dtype('int32')"
      ]
     },
     "execution_count": 5,
     "metadata": {},
     "output_type": "execute_result"
    }
   ],
   "source": [
    "arr.dtype"
   ]
  },
  {
   "cell_type": "code",
   "execution_count": 6,
   "metadata": {},
   "outputs": [
    {
     "data": {
      "text/plain": [
       "array([[45, 23, 14, 69],\n",
       "       [52, 20, 14, 15]])"
      ]
     },
     "execution_count": 6,
     "metadata": {},
     "output_type": "execute_result"
    }
   ],
   "source": [
    "arr2 = np.array([[45,23,14,69],[52,20,14,15]])\n",
    "arr2"
   ]
  },
  {
   "cell_type": "code",
   "execution_count": 7,
   "metadata": {},
   "outputs": [
    {
     "data": {
      "text/plain": [
       "2"
      ]
     },
     "execution_count": 7,
     "metadata": {},
     "output_type": "execute_result"
    }
   ],
   "source": [
    "arr2.ndim "
   ]
  },
  {
   "cell_type": "code",
   "execution_count": 8,
   "metadata": {},
   "outputs": [
    {
     "data": {
      "text/plain": [
       "(2, 4)"
      ]
     },
     "execution_count": 8,
     "metadata": {},
     "output_type": "execute_result"
    }
   ],
   "source": [
    "arr2.shape"
   ]
  },
  {
   "cell_type": "code",
   "execution_count": 9,
   "metadata": {},
   "outputs": [
    {
     "data": {
      "text/plain": [
       "dtype('int32')"
      ]
     },
     "execution_count": 9,
     "metadata": {},
     "output_type": "execute_result"
    }
   ],
   "source": [
    "arr2.dtype"
   ]
  },
  {
   "cell_type": "code",
   "execution_count": 10,
   "metadata": {},
   "outputs": [
    {
     "data": {
      "text/plain": [
       "array([10.        , 11.42857143, 12.85714286, 14.28571429, 15.71428571,\n",
       "       17.14285714, 18.57142857, 20.        , 21.42857143, 22.85714286,\n",
       "       24.28571429, 25.71428571, 27.14285714, 28.57142857, 30.        ])"
      ]
     },
     "execution_count": 10,
     "metadata": {},
     "output_type": "execute_result"
    }
   ],
   "source": [
    "#an array that are evenly space btwn a stating no and ending no\n",
    "np.linspace(10,30,15) # it will bring only 15 numbers\n"
   ]
  },
  {
   "cell_type": "markdown",
   "metadata": {},
   "source": []
  },
  {
   "cell_type": "code",
   "execution_count": 11,
   "metadata": {},
   "outputs": [
    {
     "data": {
      "text/plain": [
       "array([10, 11, 12, 14, 15, 17, 18, 20, 21, 22, 24, 25, 27, 28, 30])"
      ]
     },
     "execution_count": 11,
     "metadata": {},
     "output_type": "execute_result"
    }
   ],
   "source": [
    "np.linspace(10,30,15 ,dtype = 'int')#if you dont want it to be in float then you specifier the dtype"
   ]
  },
  {
   "cell_type": "code",
   "execution_count": 12,
   "metadata": {},
   "outputs": [
    {
     "data": {
      "text/plain": [
       "array([1., 1., 1., 1., 1., 1., 1., 1., 1., 1., 1., 1., 1., 1.])"
      ]
     },
     "execution_count": 12,
     "metadata": {},
     "output_type": "execute_result"
    }
   ],
   "source": [
    "np.ones(14)"
   ]
  },
  {
   "cell_type": "code",
   "execution_count": 51,
   "metadata": {},
   "outputs": [
    {
     "data": {
      "text/plain": [
       "array([0., 0., 0., 0., 0., 0., 0., 0., 0., 0., 0., 0., 0., 0.])"
      ]
     },
     "execution_count": 51,
     "metadata": {},
     "output_type": "execute_result"
    }
   ],
   "source": [
    "np.zeros(14)"
   ]
  },
  {
   "cell_type": "code",
   "execution_count": 14,
   "metadata": {},
   "outputs": [
    {
     "data": {
      "text/plain": [
       "array([[1., 0., 0., 0., 0., 0.],\n",
       "       [0., 1., 0., 0., 0., 0.],\n",
       "       [0., 0., 1., 0., 0., 0.],\n",
       "       [0., 0., 0., 1., 0., 0.],\n",
       "       [0., 0., 0., 0., 1., 0.],\n",
       "       [0., 0., 0., 0., 0., 1.]])"
      ]
     },
     "execution_count": 14,
     "metadata": {},
     "output_type": "execute_result"
    }
   ],
   "source": [
    "np.eye(6)#it generate an array 1 as diagonal and zero else where"
   ]
  },
  {
   "cell_type": "code",
   "execution_count": 15,
   "metadata": {},
   "outputs": [
    {
     "data": {
      "text/plain": [
       "array([ 1,  6, 11, 16, 21, 26, 31, 36, 41, 46, 51, 56, 61, 66, 71, 76, 81,\n",
       "       86, 91, 96])"
      ]
     },
     "execution_count": 15,
     "metadata": {},
     "output_type": "execute_result"
    }
   ],
   "source": [
    "np.arange(1,101,5)#how to use range"
   ]
  },
  {
   "cell_type": "code",
   "execution_count": 16,
   "metadata": {},
   "outputs": [
    {
     "data": {
      "text/plain": [
       "20"
      ]
     },
     "execution_count": 16,
     "metadata": {},
     "output_type": "execute_result"
    }
   ],
   "source": [
    "np.random.randint(10,45)#how to randomly generate a number"
   ]
  },
  {
   "cell_type": "code",
   "execution_count": 17,
   "metadata": {},
   "outputs": [
    {
     "data": {
      "text/plain": [
       "array([12, 40, 31, 38, 15, 31, 40, 41, 34, 32, 36, 34, 43, 42, 19, 24, 40,\n",
       "       30, 10, 23, 44, 38, 42, 29, 31, 30, 27, 44, 42, 44, 17, 44, 43, 25,\n",
       "       33, 30, 15, 40, 14, 33, 16, 40, 25, 34, 25, 22, 10, 38, 36, 38, 32,\n",
       "       25, 14, 17, 38, 20, 17, 12, 25, 18, 18, 26, 29, 43, 20, 43, 31, 36,\n",
       "       34, 22])"
      ]
     },
     "execution_count": 17,
     "metadata": {},
     "output_type": "execute_result"
    }
   ],
   "source": [
    "np.random.randint(10,45,70)"
   ]
  },
  {
   "cell_type": "code",
   "execution_count": 18,
   "metadata": {},
   "outputs": [
    {
     "data": {
      "text/plain": [
       "array([22, 18, 19, 21, 15, 25, 10, 26, 11, 22, 17, 16, 35, 30, 28, 30, 21,\n",
       "       38, 39, 24, 14, 33, 33, 40, 42, 32, 23, 19, 17, 32, 11, 10, 27, 18,\n",
       "       34, 23, 18, 40, 17, 13, 16, 31, 13, 14, 34, 22, 36, 26, 28, 25, 10,\n",
       "       14, 35, 44, 33, 17, 36, 35, 32, 19, 13, 33, 37, 29, 18, 42, 44, 20,\n",
       "       33, 25])"
      ]
     },
     "execution_count": 18,
     "metadata": {},
     "output_type": "execute_result"
    }
   ],
   "source": [
    "np.random.seed(1) # seed allows us to have dxm figure or output\n",
    "np.random.randint(10,45,70)"
   ]
  },
  {
   "cell_type": "code",
   "execution_count": 19,
   "metadata": {},
   "outputs": [],
   "source": [
    "num =np.random.randint(10,45,70)\n"
   ]
  },
  {
   "cell_type": "code",
   "execution_count": 20,
   "metadata": {},
   "outputs": [
    {
     "data": {
      "text/plain": [
       "array([33, 35, 17, 38, 20, 42, 34, 33, 11, 23, 13, 10, 23, 16, 31, 16, 12,\n",
       "       22, 37, 31, 21, 17, 23, 18, 21, 22, 30, 40, 17, 14, 28, 42, 23, 20,\n",
       "       33, 27, 17, 34, 20, 38, 30, 42, 22, 11, 40, 34, 28, 43, 12, 38, 44,\n",
       "       20, 42, 28, 32, 16, 12, 17, 25, 15, 27, 30, 32, 23, 43, 30, 20, 42,\n",
       "       35, 31])"
      ]
     },
     "execution_count": 20,
     "metadata": {},
     "output_type": "execute_result"
    }
   ],
   "source": [
    "num"
   ]
  },
  {
   "cell_type": "code",
   "execution_count": 21,
   "metadata": {},
   "outputs": [
    {
     "data": {
      "text/plain": [
       "array([[33, 35, 17, 38, 20, 42, 34],\n",
       "       [33, 11, 23, 13, 10, 23, 16],\n",
       "       [31, 16, 12, 22, 37, 31, 21],\n",
       "       [17, 23, 18, 21, 22, 30, 40],\n",
       "       [17, 14, 28, 42, 23, 20, 33],\n",
       "       [27, 17, 34, 20, 38, 30, 42],\n",
       "       [22, 11, 40, 34, 28, 43, 12],\n",
       "       [38, 44, 20, 42, 28, 32, 16],\n",
       "       [12, 17, 25, 15, 27, 30, 32],\n",
       "       [23, 43, 30, 20, 42, 35, 31]])"
      ]
     },
     "execution_count": 21,
     "metadata": {},
     "output_type": "execute_result"
    }
   ],
   "source": [
    "num = num.reshape(10,7)\n",
    "num"
   ]
  },
  {
   "cell_type": "code",
   "execution_count": 22,
   "metadata": {},
   "outputs": [
    {
     "data": {
      "text/plain": [
       "21"
      ]
     },
     "execution_count": 22,
     "metadata": {},
     "output_type": "execute_result"
    }
   ],
   "source": [
    "#how to select a value, know the index location of the row and then the column\n",
    "num[3,3]"
   ]
  },
  {
   "cell_type": "code",
   "execution_count": 23,
   "metadata": {},
   "outputs": [
    {
     "data": {
      "text/plain": [
       "array([[18, 21, 22],\n",
       "       [28, 42, 23],\n",
       "       [34, 20, 38],\n",
       "       [40, 34, 28],\n",
       "       [20, 42, 28]])"
      ]
     },
     "execution_count": 23,
     "metadata": {},
     "output_type": "execute_result"
    }
   ],
   "source": [
    "#how to select a range of value, you must know the index location of the stating row and the ending row then the column\n",
    "num[3:8,2:5]"
   ]
  },
  {
   "cell_type": "code",
   "execution_count": 24,
   "metadata": {},
   "outputs": [
    {
     "data": {
      "text/plain": [
       "array([[33, 35, 17, 38, 20, 42, 34],\n",
       "       [33, 11, 23, 13, 10, 23, 16],\n",
       "       [31, 16, 12, 22, 37, 31, 21],\n",
       "       [17, 23, 20, 20, 20, 30, 40],\n",
       "       [17, 14, 20, 20, 20, 20, 33],\n",
       "       [27, 17, 20, 20, 20, 30, 42],\n",
       "       [22, 11, 20, 20, 20, 43, 12],\n",
       "       [38, 44, 20, 20, 20, 32, 16],\n",
       "       [12, 17, 25, 15, 27, 30, 32],\n",
       "       [23, 43, 30, 20, 42, 35, 31]])"
      ]
     },
     "execution_count": 24,
     "metadata": {},
     "output_type": "execute_result"
    }
   ],
   "source": [
    "#BROADCASTING:broadcasting a SINGLE VALUE all OVER SELECTED VALUES\n",
    "num[3:8,2:5] = 20\n",
    "num"
   ]
  },
  {
   "cell_type": "code",
   "execution_count": 25,
   "metadata": {},
   "outputs": [
    {
     "data": {
      "text/plain": [
       "array([33, 35, 38, 42, 34, 33, 31, 37, 31, 40, 33, 42, 43, 38, 44, 32, 32,\n",
       "       43, 42, 35, 31])"
      ]
     },
     "execution_count": 25,
     "metadata": {},
     "output_type": "execute_result"
    }
   ],
   "source": [
    "#conditional selection: using conditions to select some values\n",
    "num[num >30]"
   ]
  },
  {
   "cell_type": "code",
   "execution_count": 26,
   "metadata": {},
   "outputs": [
    {
     "data": {
      "text/plain": [
       "1728"
      ]
     },
     "execution_count": 26,
     "metadata": {},
     "output_type": "execute_result"
    }
   ],
   "source": [
    "np.sum(num)"
   ]
  },
  {
   "cell_type": "code",
   "execution_count": 27,
   "metadata": {},
   "outputs": [
    {
     "data": {
      "text/plain": [
       "44"
      ]
     },
     "execution_count": 27,
     "metadata": {},
     "output_type": "execute_result"
    }
   ],
   "source": [
    "np.max(num)"
   ]
  },
  {
   "cell_type": "code",
   "execution_count": 28,
   "metadata": {},
   "outputs": [
    {
     "data": {
      "text/plain": [
       "10"
      ]
     },
     "execution_count": 28,
     "metadata": {},
     "output_type": "execute_result"
    }
   ],
   "source": [
    "np.min(num)"
   ]
  },
  {
   "cell_type": "code",
   "execution_count": 29,
   "metadata": {},
   "outputs": [
    {
     "data": {
      "text/plain": [
       "array([[5.74456265, 5.91607978, 4.12310563, 6.164414  , 4.47213595,\n",
       "        6.4807407 , 5.83095189],\n",
       "       [5.74456265, 3.31662479, 4.79583152, 3.60555128, 3.16227766,\n",
       "        4.79583152, 4.        ],\n",
       "       [5.56776436, 4.        , 3.46410162, 4.69041576, 6.08276253,\n",
       "        5.56776436, 4.58257569],\n",
       "       [4.12310563, 4.79583152, 4.47213595, 4.47213595, 4.47213595,\n",
       "        5.47722558, 6.32455532],\n",
       "       [4.12310563, 3.74165739, 4.47213595, 4.47213595, 4.47213595,\n",
       "        4.47213595, 5.74456265],\n",
       "       [5.19615242, 4.12310563, 4.47213595, 4.47213595, 4.47213595,\n",
       "        5.47722558, 6.4807407 ],\n",
       "       [4.69041576, 3.31662479, 4.47213595, 4.47213595, 4.47213595,\n",
       "        6.55743852, 3.46410162],\n",
       "       [6.164414  , 6.63324958, 4.47213595, 4.47213595, 4.47213595,\n",
       "        5.65685425, 4.        ],\n",
       "       [3.46410162, 4.12310563, 5.        , 3.87298335, 5.19615242,\n",
       "        5.47722558, 5.65685425],\n",
       "       [4.79583152, 6.55743852, 5.47722558, 4.47213595, 6.4807407 ,\n",
       "        5.91607978, 5.56776436]])"
      ]
     },
     "execution_count": 29,
     "metadata": {},
     "output_type": "execute_result"
    }
   ],
   "source": [
    "np.sqrt(num)"
   ]
  },
  {
   "cell_type": "code",
   "execution_count": 30,
   "metadata": {},
   "outputs": [
    {
     "data": {
      "text/plain": [
       "24.685714285714287"
      ]
     },
     "execution_count": 30,
     "metadata": {},
     "output_type": "execute_result"
    }
   ],
   "source": [
    "np.mean(num)"
   ]
  },
  {
   "cell_type": "code",
   "execution_count": 31,
   "metadata": {},
   "outputs": [
    {
     "data": {
      "text/plain": [
       "20.5"
      ]
     },
     "execution_count": 31,
     "metadata": {},
     "output_type": "execute_result"
    }
   ],
   "source": [
    "np.median(num)"
   ]
  },
  {
   "cell_type": "code",
   "execution_count": 32,
   "metadata": {},
   "outputs": [
    {
     "data": {
      "text/plain": [
       "array([[3.49650756, 3.55534806, 2.83321334, 3.63758616, 2.99573227,\n",
       "        3.73766962, 3.52636052],\n",
       "       [3.49650756, 2.39789527, 3.13549422, 2.56494936, 2.30258509,\n",
       "        3.13549422, 2.77258872],\n",
       "       [3.4339872 , 2.77258872, 2.48490665, 3.09104245, 3.61091791,\n",
       "        3.4339872 , 3.04452244],\n",
       "       [2.83321334, 3.13549422, 2.99573227, 2.99573227, 2.99573227,\n",
       "        3.40119738, 3.68887945],\n",
       "       [2.83321334, 2.63905733, 2.99573227, 2.99573227, 2.99573227,\n",
       "        2.99573227, 3.49650756],\n",
       "       [3.29583687, 2.83321334, 2.99573227, 2.99573227, 2.99573227,\n",
       "        3.40119738, 3.73766962],\n",
       "       [3.09104245, 2.39789527, 2.99573227, 2.99573227, 2.99573227,\n",
       "        3.76120012, 2.48490665],\n",
       "       [3.63758616, 3.78418963, 2.99573227, 2.99573227, 2.99573227,\n",
       "        3.4657359 , 2.77258872],\n",
       "       [2.48490665, 2.83321334, 3.21887582, 2.7080502 , 3.29583687,\n",
       "        3.40119738, 3.4657359 ],\n",
       "       [3.13549422, 3.76120012, 3.40119738, 2.99573227, 3.73766962,\n",
       "        3.55534806, 3.4339872 ]])"
      ]
     },
     "execution_count": 32,
     "metadata": {},
     "output_type": "execute_result"
    }
   ],
   "source": [
    "np.log(num)"
   ]
  },
  {
   "cell_type": "code",
   "execution_count": 33,
   "metadata": {},
   "outputs": [
    {
     "data": {
      "text/plain": [
       "11"
      ]
     },
     "execution_count": 33,
     "metadata": {},
     "output_type": "execute_result"
    }
   ],
   "source": [
    "np.argmin(num)"
   ]
  },
  {
   "cell_type": "code",
   "execution_count": 34,
   "metadata": {},
   "outputs": [
    {
     "data": {
      "text/plain": [
       "50"
      ]
     },
     "execution_count": 34,
     "metadata": {},
     "output_type": "execute_result"
    }
   ],
   "source": [
    "np.argmax(num)"
   ]
  },
  {
   "cell_type": "code",
   "execution_count": 35,
   "metadata": {},
   "outputs": [
    {
     "data": {
      "text/plain": [
       "array([33, 35, 17, 38, 20, 42, 34, 33, 11, 23, 13, 10, 23, 16, 31, 16, 12,\n",
       "       22, 37, 31, 21, 17, 23, 20, 20, 20, 30, 40, 17, 14, 20, 20, 20, 20,\n",
       "       33, 27, 17, 20, 20, 20, 30, 42, 22, 11, 20, 20, 20, 43, 12, 38, 44,\n",
       "       20, 20, 20, 32, 16, 12, 17, 25, 15, 27, 30, 32, 23, 43, 30, 20, 42,\n",
       "       35, 31])"
      ]
     },
     "execution_count": 35,
     "metadata": {},
     "output_type": "execute_result"
    }
   ],
   "source": [
    "#how to return d 2D BACK TO 1 DIMENSIONAL ARRAY (FLATTEN)\n",
    "num = num.flatten()\n",
    "num\n"
   ]
  },
  {
   "cell_type": "code",
   "execution_count": 36,
   "metadata": {},
   "outputs": [],
   "source": [
    "#EXERCISE\n",
    "#generate an array consisting of 100 numbers between 25 55 reshape the array to 10 row and 10 columns using seed number 7\n",
    "#return the  value on 3:6 on the row and 5:8 on the column\n",
    "#broadcast 32 all over the selected areA\n",
    "#find the mean , min,max,sum, the 50 and 75 percentile"
   ]
  },
  {
   "cell_type": "code",
   "execution_count": 37,
   "metadata": {},
   "outputs": [
    {
     "data": {
      "text/plain": [
       "array([40, 29, 50, 47, 28, 44, 48, 32, 53, 50, 39, 48, 33, 50, 39, 35, 51,\n",
       "       33, 32, 31, 29, 41, 32, 37, 25, 36, 48, 51, 31, 44, 53, 37, 30, 49,\n",
       "       49, 48, 46, 41, 52, 54, 25, 27, 49, 34, 39, 31, 29, 39, 34, 48, 28,\n",
       "       28, 33, 44, 41, 26, 25, 41, 47, 54, 37, 53, 53, 32, 48, 35, 34, 28,\n",
       "       25, 54, 32, 48, 53, 48, 25, 46, 29, 28, 26, 28, 52, 52, 26, 44, 52,\n",
       "       29, 44, 26, 52, 50, 30, 34, 54, 42, 27, 44, 43, 43, 46, 48])"
      ]
     },
     "execution_count": 37,
     "metadata": {},
     "output_type": "execute_result"
    }
   ],
   "source": [
    "import numpy as np\n",
    "np.random.seed(7)\n",
    "num1 =np.random.randint(25,55,100)\n",
    "num1"
   ]
  },
  {
   "cell_type": "code",
   "execution_count": 38,
   "metadata": {},
   "outputs": [
    {
     "data": {
      "text/plain": [
       "array([[40, 29, 50, 47, 28, 44, 48, 32, 53, 50],\n",
       "       [39, 48, 33, 50, 39, 35, 51, 33, 32, 31],\n",
       "       [29, 41, 32, 37, 25, 36, 48, 51, 31, 44],\n",
       "       [53, 37, 30, 49, 49, 48, 46, 41, 52, 54],\n",
       "       [25, 27, 49, 34, 39, 31, 29, 39, 34, 48],\n",
       "       [28, 28, 33, 44, 41, 26, 25, 41, 47, 54],\n",
       "       [37, 53, 53, 32, 48, 35, 34, 28, 25, 54],\n",
       "       [32, 48, 53, 48, 25, 46, 29, 28, 26, 28],\n",
       "       [52, 52, 26, 44, 52, 29, 44, 26, 52, 50],\n",
       "       [30, 34, 54, 42, 27, 44, 43, 43, 46, 48]])"
      ]
     },
     "execution_count": 38,
     "metadata": {},
     "output_type": "execute_result"
    }
   ],
   "source": [
    "\n",
    "num1 = num1.reshape(10,10)\n",
    "num1"
   ]
  },
  {
   "cell_type": "code",
   "execution_count": 39,
   "metadata": {},
   "outputs": [
    {
     "data": {
      "text/plain": [
       "array([[48, 46, 41],\n",
       "       [31, 29, 39],\n",
       "       [26, 25, 41]])"
      ]
     },
     "execution_count": 39,
     "metadata": {},
     "output_type": "execute_result"
    }
   ],
   "source": [
    "num1[3:6,5:8]"
   ]
  },
  {
   "cell_type": "code",
   "execution_count": 40,
   "metadata": {},
   "outputs": [
    {
     "data": {
      "text/plain": [
       "array([[40, 29, 50, 47, 28, 44, 48, 32, 53, 50],\n",
       "       [39, 48, 33, 50, 39, 35, 51, 33, 32, 31],\n",
       "       [29, 41, 32, 37, 25, 36, 48, 51, 31, 44],\n",
       "       [53, 37, 30, 49, 49, 32, 32, 32, 52, 54],\n",
       "       [25, 27, 49, 34, 39, 32, 32, 32, 34, 48],\n",
       "       [28, 28, 33, 44, 41, 32, 32, 32, 47, 54],\n",
       "       [37, 53, 53, 32, 48, 35, 34, 28, 25, 54],\n",
       "       [32, 48, 53, 48, 25, 46, 29, 28, 26, 28],\n",
       "       [52, 52, 26, 44, 52, 29, 44, 26, 52, 50],\n",
       "       [30, 34, 54, 42, 27, 44, 43, 43, 46, 48]])"
      ]
     },
     "execution_count": 40,
     "metadata": {},
     "output_type": "execute_result"
    }
   ],
   "source": [
    "num1[3:6,5:8] =32\n",
    "num1"
   ]
  },
  {
   "cell_type": "code",
   "execution_count": 41,
   "metadata": {},
   "outputs": [
    {
     "data": {
      "text/plain": [
       "39.29"
      ]
     },
     "execution_count": 41,
     "metadata": {},
     "output_type": "execute_result"
    }
   ],
   "source": [
    "np.mean(num1)"
   ]
  },
  {
   "cell_type": "code",
   "execution_count": 42,
   "metadata": {},
   "outputs": [
    {
     "data": {
      "text/plain": [
       "38.0"
      ]
     },
     "execution_count": 42,
     "metadata": {},
     "output_type": "execute_result"
    }
   ],
   "source": [
    "np.median(num1)"
   ]
  },
  {
   "cell_type": "code",
   "execution_count": 43,
   "metadata": {},
   "outputs": [],
   "source": [
    "import pandas as pd"
   ]
  },
  {
   "cell_type": "code",
   "execution_count": 44,
   "metadata": {},
   "outputs": [
    {
     "data": {
      "text/plain": [
       "38.0"
      ]
     },
     "execution_count": 44,
     "metadata": {},
     "output_type": "execute_result"
    }
   ],
   "source": [
    "np.percentile(num1,50)"
   ]
  },
  {
   "cell_type": "code",
   "execution_count": 45,
   "metadata": {},
   "outputs": [
    {
     "data": {
      "text/plain": [
       "48.0"
      ]
     },
     "execution_count": 45,
     "metadata": {},
     "output_type": "execute_result"
    }
   ],
   "source": [
    "np.percentile(num1,75)"
   ]
  },
  {
   "cell_type": "code",
   "execution_count": 46,
   "metadata": {},
   "outputs": [
    {
     "data": {
      "text/plain": [
       "Mango        500\n",
       "Grape        700\n",
       "Pears         45\n",
       "Pineapple     25\n",
       "dtype: int64"
      ]
     },
     "execution_count": 46,
     "metadata": {},
     "output_type": "execute_result"
    }
   ],
   "source": [
    "fruits= ['Mango','Grape','Pears','Pineapple']#set lebel\n",
    "stock = [500,700,45,25]\n",
    "s1 = pd.Series(data=stock,index=fruits)\n",
    "s1"
   ]
  },
  {
   "cell_type": "code",
   "execution_count": 47,
   "metadata": {},
   "outputs": [
    {
     "data": {
      "text/plain": [
       "45"
      ]
     },
     "execution_count": 47,
     "metadata": {},
     "output_type": "execute_result"
    }
   ],
   "source": [
    "s1['Pears']"
   ]
  },
  {
   "cell_type": "code",
   "execution_count": 48,
   "metadata": {},
   "outputs": [
    {
     "data": {
      "text/plain": [
       "0    500\n",
       "1    700\n",
       "2     45\n",
       "3     25\n",
       "dtype: int64"
      ]
     },
     "execution_count": 48,
     "metadata": {},
     "output_type": "execute_result"
    }
   ],
   "source": [
    "s1 = pd.Series(data=stock)#default lebel\n",
    "s1"
   ]
  },
  {
   "cell_type": "code",
   "execution_count": null,
   "metadata": {},
   "outputs": [],
   "source": []
  }
 ],
 "metadata": {
  "kernelspec": {
   "display_name": "Python 3.9.12 ('base')",
   "language": "python",
   "name": "python3"
  },
  "language_info": {
   "codemirror_mode": {
    "name": "ipython",
    "version": 3
   },
   "file_extension": ".py",
   "mimetype": "text/x-python",
   "name": "python",
   "nbconvert_exporter": "python",
   "pygments_lexer": "ipython3",
   "version": "3.9.12"
  },
  "orig_nbformat": 4,
  "vscode": {
   "interpreter": {
    "hash": "dc07d24e2f18896857f0b2a651fe84ba40ce7b297e58d8804a308c8039f752a6"
   }
  }
 },
 "nbformat": 4,
 "nbformat_minor": 2
}
